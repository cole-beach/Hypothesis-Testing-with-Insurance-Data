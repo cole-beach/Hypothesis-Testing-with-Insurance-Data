{
 "cells": [
  {
   "cell_type": "markdown",
   "id": "4e30fc9a",
   "metadata": {},
   "source": [
    "# Hypothesis Testing with Insurance Data"
   ]
  },
  {
   "cell_type": "markdown",
   "id": "c11d5547",
   "metadata": {},
   "source": [
    "## For each question, make sure to:\n",
    "\n",
    "* State your Null Hypothesis and Alternative Hypothesis\n",
    "\n",
    "\n",
    "* Select the correct test according to the data type and number of samples\n",
    "\n",
    "\n",
    "* Test the assumptions of your selected test.\n",
    "\n",
    "\n",
    "* Execute the selected test, or the alternative test (if you do not meet the assumptions)\n",
    "\n",
    "\n",
    "* Interpret your p-value and reject or fail to reject your null hypothesis \n",
    "\n",
    "\n",
    "* Show a supporting visualization that helps display the result"
   ]
  },
  {
   "cell_type": "code",
   "execution_count": 1,
   "id": "36a42af7",
   "metadata": {},
   "outputs": [],
   "source": [
    "import pandas as pd\n",
    "import numpy as np\n",
    "import matplotlib.pyplot as plt\n",
    "import seaborn as sns\n",
    "import scipy.stats as stats"
   ]
  },
  {
   "cell_type": "code",
   "execution_count": 2,
   "id": "7f96f429",
   "metadata": {},
   "outputs": [
    {
     "name": "stdout",
     "output_type": "stream",
     "text": [
      "<class 'pandas.core.frame.DataFrame'>\n",
      "RangeIndex: 1338 entries, 0 to 1337\n",
      "Data columns (total 7 columns):\n",
      " #   Column    Non-Null Count  Dtype  \n",
      "---  ------    --------------  -----  \n",
      " 0   age       1338 non-null   int64  \n",
      " 1   sex       1338 non-null   object \n",
      " 2   bmi       1338 non-null   float64\n",
      " 3   children  1338 non-null   int64  \n",
      " 4   smoker    1338 non-null   object \n",
      " 5   region    1338 non-null   object \n",
      " 6   charges   1338 non-null   float64\n",
      "dtypes: float64(2), int64(2), object(3)\n",
      "memory usage: 73.3+ KB\n"
     ]
    },
    {
     "data": {
      "text/html": [
       "<div>\n",
       "<style scoped>\n",
       "    .dataframe tbody tr th:only-of-type {\n",
       "        vertical-align: middle;\n",
       "    }\n",
       "\n",
       "    .dataframe tbody tr th {\n",
       "        vertical-align: top;\n",
       "    }\n",
       "\n",
       "    .dataframe thead th {\n",
       "        text-align: right;\n",
       "    }\n",
       "</style>\n",
       "<table border=\"1\" class=\"dataframe\">\n",
       "  <thead>\n",
       "    <tr style=\"text-align: right;\">\n",
       "      <th></th>\n",
       "      <th>age</th>\n",
       "      <th>sex</th>\n",
       "      <th>bmi</th>\n",
       "      <th>children</th>\n",
       "      <th>smoker</th>\n",
       "      <th>region</th>\n",
       "      <th>charges</th>\n",
       "    </tr>\n",
       "  </thead>\n",
       "  <tbody>\n",
       "    <tr>\n",
       "      <th>0</th>\n",
       "      <td>19</td>\n",
       "      <td>female</td>\n",
       "      <td>27.900</td>\n",
       "      <td>0</td>\n",
       "      <td>yes</td>\n",
       "      <td>southwest</td>\n",
       "      <td>16884.92400</td>\n",
       "    </tr>\n",
       "    <tr>\n",
       "      <th>1</th>\n",
       "      <td>18</td>\n",
       "      <td>male</td>\n",
       "      <td>33.770</td>\n",
       "      <td>1</td>\n",
       "      <td>no</td>\n",
       "      <td>southeast</td>\n",
       "      <td>1725.55230</td>\n",
       "    </tr>\n",
       "    <tr>\n",
       "      <th>2</th>\n",
       "      <td>28</td>\n",
       "      <td>male</td>\n",
       "      <td>33.000</td>\n",
       "      <td>3</td>\n",
       "      <td>no</td>\n",
       "      <td>southeast</td>\n",
       "      <td>4449.46200</td>\n",
       "    </tr>\n",
       "    <tr>\n",
       "      <th>3</th>\n",
       "      <td>33</td>\n",
       "      <td>male</td>\n",
       "      <td>22.705</td>\n",
       "      <td>0</td>\n",
       "      <td>no</td>\n",
       "      <td>northwest</td>\n",
       "      <td>21984.47061</td>\n",
       "    </tr>\n",
       "    <tr>\n",
       "      <th>4</th>\n",
       "      <td>32</td>\n",
       "      <td>male</td>\n",
       "      <td>28.880</td>\n",
       "      <td>0</td>\n",
       "      <td>no</td>\n",
       "      <td>northwest</td>\n",
       "      <td>3866.85520</td>\n",
       "    </tr>\n",
       "  </tbody>\n",
       "</table>\n",
       "</div>"
      ],
      "text/plain": [
       "   age     sex     bmi  children smoker     region      charges\n",
       "0   19  female  27.900         0    yes  southwest  16884.92400\n",
       "1   18    male  33.770         1     no  southeast   1725.55230\n",
       "2   28    male  33.000         3     no  southeast   4449.46200\n",
       "3   33    male  22.705         0     no  northwest  21984.47061\n",
       "4   32    male  28.880         0     no  northwest   3866.85520"
      ]
     },
     "execution_count": 2,
     "metadata": {},
     "output_type": "execute_result"
    }
   ],
   "source": [
    "df = pd.read_csv(r\"C:\\Users\\nbeac\\OneDrive\\Documents\\GitHub\\Hypothesis-Testing-with-Insurance-Data\\Data\\insurance - insurance.csv\")\n",
    "pd.set_option('display.max_columns', None)\n",
    "\n",
    "df.info()\n",
    "df.head()"
   ]
  },
  {
   "cell_type": "markdown",
   "id": "f3c63e3c",
   "metadata": {},
   "source": [
    "### 1. Do smokers have higher insurance charges than non-smokers?"
   ]
  },
  {
   "cell_type": "code",
   "execution_count": 3,
   "id": "81063174",
   "metadata": {},
   "outputs": [
    {
     "name": "stdout",
     "output_type": "stream",
     "text": [
      "For Non_Smokers (n=1064): Mean=8434.27\n",
      "For Smokers (n=274): Mean=32050.23\n"
     ]
    }
   ],
   "source": [
    "smokers = df.loc[ df['smoker']=='yes',\"charges\"]\n",
    "non_smokers = df.loc[ df['smoker']=='no',\"charges\"]\n",
    "## Getting means for gender height\n",
    "print(f\"For Non_Smokers (n={len(non_smokers)}): Mean={np.mean(non_smokers):.2f}\")\n",
    "print(f\"For Smokers (n={len(smokers)}): Mean={np.mean(smokers):.2f}\")"
   ]
  },
  {
   "cell_type": "code",
   "execution_count": 4,
   "id": "6f2e03e6",
   "metadata": {
    "scrolled": true
   },
   "outputs": [
    {
     "data": {
      "image/png": "[encoded data removed]",
      "text/plain": [
       "<Figure size 1080x360 with 2 Axes>"
      ]
     },
     "metadata": {
      "needs_background": "light"
     },
     "output_type": "display_data"
    }
   ],
   "source": [
    "gender_palette={'no':'dodgerblue', \"yes\":'salmon'}\n",
    "## Visualizing Sample means\n",
    "fig, (ax,ax_bar) = plt.subplots(figsize= (15,5), ncols=2, \n",
    "                                constrained_layout=True,\n",
    "                                gridspec_kw={'width_ratios':[0.8,0.2]})\n",
    "\n",
    "\n",
    "# Histogram\n",
    "ax = sns.histplot(data=df, x='charges',fill=True,hue='smoker',kde=True,\n",
    "                  stat='density',common_norm=False,ax=ax,\n",
    "                  palette=gender_palette)\n",
    "\n",
    "ax.axvline(np.mean(non_smokers), ls='--',lw=3, \n",
    "           label=f\"Non-Smokers (Mean={np.mean(non_smokers):.2f})\",color=gender_palette['no'])\n",
    "\n",
    "ax.axvline(np.mean(smokers), ls='--', lw=3, \n",
    "           label=f\"Smokers (Mean={np.mean(smokers):.2f})\",color=gender_palette['yes'])\n",
    "\n",
    "ax.legend(prop={\"size\":14}, loc='upper right')#bbox_to_anchor=[1,1])\n",
    "## Barplot\n",
    "sns.barplot(data=df, x='smoker',y='charges',ax = ax_bar,palette=gender_palette)\n",
    "fig.suptitle('Comparison of Insurance Rates for Smokers to Non-Smokers',fontsize='xx-large');"
   ]
  },
  {
   "cell_type": "markdown",
   "id": "d2d282ff",
   "metadata": {},
   "source": [
    "#### Hypothesis"
   ]
  },
  {
   "cell_type": "markdown",
   "id": "2d37303e",
   "metadata": {},
   "source": [
    "As you can see, there is a significant difference between the means of those that smoke and those that do not. \n",
    "\n",
    "I will use the t-test to determine if this difference is statistically significant of if it is just due to randomness in the samples. "
   ]
  },
  {
   "cell_type": "markdown",
   "id": "32450436",
   "metadata": {},
   "source": [
    "* Null-Hypothesis: Smokers have a higher charge for insurance than those that do not smoke."
   ]
  },
  {
   "cell_type": "markdown",
   "id": "d84b21c4",
   "metadata": {},
   "source": [
    "* Alternative Hypothesis: Smokers are not charged a higher insurance than those that do not smoke. "
   ]
  },
  {
   "cell_type": "markdown",
   "id": "7184aa1a",
   "metadata": {},
   "source": [
    "### Testing for Outliers"
   ]
  },
  {
   "cell_type": "markdown",
   "id": "1cb9a4ae",
   "metadata": {},
   "source": [
    "#### Smokers Outliers"
   ]
  },
  {
   "cell_type": "code",
   "execution_count": 5,
   "id": "d6492598",
   "metadata": {
    "scrolled": true
   },
   "outputs": [
    {
     "data": {
      "text/plain": [
       "0"
      ]
     },
     "execution_count": 5,
     "metadata": {},
     "output_type": "execute_result"
    }
   ],
   "source": [
    "zscores_f = stats.zscore(smokers)\n",
    "outliers_f = abs(zscores_f)>3\n",
    "np.sum(outliers_f)"
   ]
  },
  {
   "cell_type": "code",
   "execution_count": 6,
   "id": "01650def",
   "metadata": {},
   "outputs": [
    {
     "data": {
      "text/plain": [
       "NormaltestResult(statistic=61.03941356533816, pvalue=5.564930630036463e-14)"
      ]
     },
     "execution_count": 6,
     "metadata": {},
     "output_type": "execute_result"
    }
   ],
   "source": [
    "result_smokers = stats.normaltest(smokers)\n",
    "result_smokers"
   ]
  },
  {
   "cell_type": "markdown",
   "id": "821b380f",
   "metadata": {},
   "source": [
    "#### Non-Smokers Outliers"
   ]
  },
  {
   "cell_type": "code",
   "execution_count": 7,
   "id": "addcf974",
   "metadata": {},
   "outputs": [
    {
     "data": {
      "text/plain": [
       "24"
      ]
     },
     "execution_count": 7,
     "metadata": {},
     "output_type": "execute_result"
    }
   ],
   "source": [
    "zscores_m = stats.zscore(non_smokers)\n",
    "outliers_m = abs(zscores_m)>3\n",
    "np.sum(outliers_m)"
   ]
  },
  {
   "cell_type": "code",
   "execution_count": 8,
   "id": "cbdb983e",
   "metadata": {},
   "outputs": [
    {
     "data": {
      "text/plain": [
       "19"
      ]
     },
     "execution_count": 8,
     "metadata": {},
     "output_type": "execute_result"
    }
   ],
   "source": [
    "# Removing outliers from non_smokers\n",
    "non_smokers = non_smokers[(np.abs(stats.zscore(non_smokers)) < 3)]\n",
    "zscores= stats.zscore(non_smokers)\n",
    "outliers = abs(zscores)>3\n",
    "np.sum(outliers)"
   ]
  },
  {
   "cell_type": "code",
   "execution_count": 9,
   "id": "dc979c2c",
   "metadata": {},
   "outputs": [
    {
     "data": {
      "text/plain": [
       "NormaltestResult(statistic=163.80367047789198, pvalue=2.6945416315543976e-36)"
      ]
     },
     "execution_count": 9,
     "metadata": {},
     "output_type": "execute_result"
    }
   ],
   "source": [
    "result_non_smokers = stats.normaltest(non_smokers)\n",
    "result_non_smokers"
   ]
  },
  {
   "cell_type": "markdown",
   "id": "94a7b908",
   "metadata": {},
   "source": [
    "### 2. Are men more likely to smoke than women?"
   ]
  },
  {
   "cell_type": "code",
   "execution_count": 10,
   "id": "5c93b630",
   "metadata": {},
   "outputs": [
    {
     "data": {
      "text/plain": [
       "male      676\n",
       "female    662\n",
       "Name: sex, dtype: int64"
      ]
     },
     "execution_count": 10,
     "metadata": {},
     "output_type": "execute_result"
    }
   ],
   "source": [
    "df['sex'].value_counts()"
   ]
  },
  {
   "cell_type": "code",
   "execution_count": 11,
   "id": "3d3c5455",
   "metadata": {
    "scrolled": false
   },
   "outputs": [],
   "source": [
    "# bin_sex = df['sex'].replace({'male': 0, 'female': 1})"
   ]
  },
  {
   "cell_type": "code",
   "execution_count": 22,
   "id": "940a5581",
   "metadata": {},
   "outputs": [
    {
     "data": {
      "text/plain": [
       "1338"
      ]
     },
     "execution_count": 22,
     "metadata": {},
     "output_type": "execute_result"
    }
   ],
   "source": [
    "bin_smoker = df['smoker'].replace({'yes': 0, 'no': 1})\n",
    "bin_smoker.count()"
   ]
  },
  {
   "cell_type": "code",
   "execution_count": 25,
   "id": "b7bfffe8",
   "metadata": {
    "scrolled": true
   },
   "outputs": [
    {
     "data": {
      "image/png": "[encoded data removed]",
      "text/plain": [
       "<Figure size 432x288 with 1 Axes>"
      ]
     },
     "metadata": {
      "needs_background": "light"
     },
     "output_type": "display_data"
    }
   ],
   "source": [
    "sns.barplot(data=df, x='sex', y=bin_smoker);"
   ]
  },
  {
   "cell_type": "markdown",
   "id": "89b41526",
   "metadata": {},
   "source": [
    "#### Hypothesis"
   ]
  },
  {
   "cell_type": "markdown",
   "id": "2c73fe41",
   "metadata": {},
   "source": [
    "The above chart shows that females are more likely to smoke instead of men.\n",
    "\n",
    "I'm going to preform a few tests just to ensure the information above is correct. "
   ]
  },
  {
   "cell_type": "markdown",
   "id": "b631a50a",
   "metadata": {},
   "source": [
    "### Testing for Outliers"
   ]
  },
  {
   "cell_type": "markdown",
   "id": "de4ae2a4",
   "metadata": {},
   "source": [
    "#### "
   ]
  },
  {
   "cell_type": "code",
   "execution_count": null,
   "id": "a48f694f",
   "metadata": {},
   "outputs": [],
   "source": []
  },
  {
   "cell_type": "markdown",
   "id": "b1470fec",
   "metadata": {},
   "source": [
    "### 3. Do different regions have different charges, on average?"
   ]
  },
  {
   "cell_type": "code",
   "execution_count": null,
   "id": "2debb235",
   "metadata": {},
   "outputs": [],
   "source": []
  }
 ],
 "metadata": {
  "kernelspec": {
   "display_name": "Python (dojo-env)",
   "language": "python",
   "name": "dojo-env"
  },
  "language_info": {
   "codemirror_mode": {
    "name": "ipython",
    "version": 3
   },
   "file_extension": ".py",
   "mimetype": "text/x-python",
   "name": "python",
   "nbconvert_exporter": "python",
   "pygments_lexer": "ipython3",
   "version": "3.8.13"
  },
  "toc": {
   "base_numbering": 1,
   "nav_menu": {},
   "number_sections": false,
   "sideBar": true,
   "skip_h1_title": false,
   "title_cell": "Table of Contents",
   "title_sidebar": "Contents",
   "toc_cell": false,
   "toc_position": {},
   "toc_section_display": true,
   "toc_window_display": false
  }
 },
 "nbformat": 4,
 "nbformat_minor": 5
}
